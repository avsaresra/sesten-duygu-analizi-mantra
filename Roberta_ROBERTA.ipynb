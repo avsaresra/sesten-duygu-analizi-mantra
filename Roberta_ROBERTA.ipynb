{
  "cells": [
    {
      "cell_type": "code",
      "execution_count": 1,
      "metadata": {
        "colab": {
          "base_uri": "https://localhost:8080/"
        },
        "id": "4L2ahjcAuaFk",
        "outputId": "4bd8e08a-d9db-4a2e-e904-699e4e5ad56f"
      },
      "outputs": [
        {
          "name": "stdout",
          "output_type": "stream",
          "text": [
            "Drive already mounted at /content/drive; to attempt to forcibly remount, call drive.mount(\"/content/drive\", force_remount=True).\n"
          ]
        }
      ],
      "source": [
        "# Colab ortamından Google Drive ile bağlantı sağlanıyor.\n",
        "from google.colab import drive\n",
        "drive.mount('/content/drive')"
      ]
    },
    {
      "cell_type": "code",
      "execution_count": 2,
      "metadata": {
        "id": "lL_0Yrx-vSYX"
      },
      "outputs": [],
      "source": [
        "# gerekli kütüphaneler (contractions ve transformers) kurulur.\n",
        "# -q bayrağı, kurulum işlemlerini sessiz modda gerçekleştirmek için kullanılır.\n",
        "!pip install contractions -q\n",
        "!pip install transformers -q"
      ]
    },
    {
      "cell_type": "code",
      "execution_count": 3,
      "metadata": {
        "colab": {
          "base_uri": "https://localhost:8080/"
        },
        "id": "HUf58xb6ZmTH",
        "outputId": "411b0b2b-152c-4167-9bba-ec4fd782a0be"
      },
      "outputs": [
        {
          "name": "stdout",
          "output_type": "stream",
          "text": [
            "  Installing build dependencies ... \u001b[?25l\u001b[?25hdone\n",
            "  Getting requirements to build wheel ... \u001b[?25l\u001b[?25hdone\n",
            "  Preparing metadata (pyproject.toml) ... \u001b[?25l\u001b[?25hdone\n"
          ]
        }
      ],
      "source": [
        "# Githubdan whisper kütüphanesi indirilir.\n",
        "! pip install git+https://github.com/openai/whisper.git -q"
      ]
    },
    {
      "cell_type": "code",
      "execution_count": 4,
      "metadata": {
        "id": "sYgh-fXuZ18M"
      },
      "outputs": [],
      "source": [
        "# Whisper kütüphanesi önceden eğitilmiş bir dil modeli olan whisper modelini ve \n",
        "# torch kütüphanesi de GPU kullanılabilirliğini kontrol etmek için kullanılır.\n",
        "import whisper\n",
        "import torch\n",
        "# Cihazı CUDA GPU veya CPU olarak belirleme\n",
        "device = \"cuda\" if torch.cuda.is_available() else \"cpu\"\n",
        "# \"medium\" boyutunda bir dil modeli yükleme ve belirtilen cihazı kullanma\n",
        "model = whisper.load_model(\"medium\", device=device)"
      ]
    },
    {
      "cell_type": "code",
      "execution_count": 5,
      "metadata": {
        "colab": {
          "base_uri": "https://localhost:8080/"
        },
        "id": "gSrNZu6zZ6sJ",
        "outputId": "1b5254ff-0e6d-4983-9e71-2cf21baffd24"
      },
      "outputs": [
        {
          "name": "stdout",
          "output_type": "stream",
          "text": [
            " I feel tired, helpless and hopeless.\n"
          ]
        }
      ],
      "source": [
        "#ses kaydını okur, çeviri yaparak metne dönüştürülmüş halini yazdırır.\n",
        "result = model.transcribe(\"/content/drive/MyDrive/MantraAI/audio/3.mp3\", task = \"translate\")\n",
        "print(result[\"text\"])"
      ]
    },
    {
      "cell_type": "code",
      "execution_count": 6,
      "metadata": {
        "id": "SLK8CNwMkyIn"
      },
      "outputs": [],
      "source": [
        "# Metni \"speech_sentence\" değişkenine atar.\n",
        "speech_sentence = result[\"text\"]"
      ]
    },
    {
      "cell_type": "code",
      "execution_count": 7,
      "metadata": {
        "colab": {
          "base_uri": "https://localhost:8080/"
        },
        "id": "jnvKLIWMvLo8",
        "outputId": "d7d5f0f7-a299-4d3a-dfb9-85c819f76aa1"
      },
      "outputs": [
        {
          "name": "stderr",
          "output_type": "stream",
          "text": [
            "[nltk_data] Downloading package stopwords to /root/nltk_data...\n",
            "[nltk_data]   Package stopwords is already up-to-date!\n",
            "[nltk_data] Downloading package wordnet to /root/nltk_data...\n",
            "[nltk_data]   Package wordnet is already up-to-date!\n"
          ]
        }
      ],
      "source": [
        "# metin işleme için gerekli kütüphaneler \n",
        "# (numpy, pandas, nltk, contractions, re, \n",
        "# tensorflow, matplotlib.pyplot) içe aktarılır.\n",
        "import numpy as np\n",
        "import pandas as pd\n",
        "import nltk\n",
        "nltk.download('stopwords')\n",
        "nltk.download('wordnet')\n",
        "from nltk.corpus import stopwords\n",
        "from nltk.stem import WordNetLemmatizer\n",
        "import contractions\n",
        "import re\n",
        "import tensorflow as tf\n",
        "from tensorflow.keras.optimizers import Adam\n",
        "import matplotlib.pyplot as plt"
      ]
    },
    {
      "cell_type": "code",
      "execution_count": 8,
      "metadata": {
        "colab": {
          "base_uri": "https://localhost:8080/",
          "height": 206
        },
        "id": "3KhFRzlC4Qbs",
        "outputId": "6a59f20c-e626-49d7-db7a-be3e43f9a6e4"
      },
      "outputs": [
        {
          "data": {
            "text/html": [
              "\n",
              "  <div id=\"df-d5197612-4d36-4f7d-bdbb-4506e9d1c292\">\n",
              "    <div class=\"colab-df-container\">\n",
              "      <div>\n",
              "<style scoped>\n",
              "    .dataframe tbody tr th:only-of-type {\n",
              "        vertical-align: middle;\n",
              "    }\n",
              "\n",
              "    .dataframe tbody tr th {\n",
              "        vertical-align: top;\n",
              "    }\n",
              "\n",
              "    .dataframe thead th {\n",
              "        text-align: right;\n",
              "    }\n",
              "</style>\n",
              "<table border=\"1\" class=\"dataframe\">\n",
              "  <thead>\n",
              "    <tr style=\"text-align: right;\">\n",
              "      <th></th>\n",
              "      <th>content</th>\n",
              "      <th>sentiment</th>\n",
              "    </tr>\n",
              "  </thead>\n",
              "  <tbody>\n",
              "    <tr>\n",
              "      <th>0</th>\n",
              "      <td>i didnt feel humiliated</td>\n",
              "      <td>0</td>\n",
              "    </tr>\n",
              "    <tr>\n",
              "      <th>1</th>\n",
              "      <td>i can go from feeling so hopeless to so damned...</td>\n",
              "      <td>0</td>\n",
              "    </tr>\n",
              "    <tr>\n",
              "      <th>2</th>\n",
              "      <td>im grabbing a minute to post i feel greedy wrong</td>\n",
              "      <td>3</td>\n",
              "    </tr>\n",
              "    <tr>\n",
              "      <th>3</th>\n",
              "      <td>i am ever feeling nostalgic about the fireplac...</td>\n",
              "      <td>2</td>\n",
              "    </tr>\n",
              "    <tr>\n",
              "      <th>4</th>\n",
              "      <td>i am feeling grouchy</td>\n",
              "      <td>3</td>\n",
              "    </tr>\n",
              "  </tbody>\n",
              "</table>\n",
              "</div>\n",
              "      <button class=\"colab-df-convert\" onclick=\"convertToInteractive('df-d5197612-4d36-4f7d-bdbb-4506e9d1c292')\"\n",
              "              title=\"Convert this dataframe to an interactive table.\"\n",
              "              style=\"display:none;\">\n",
              "        \n",
              "  <svg xmlns=\"http://www.w3.org/2000/svg\" height=\"24px\"viewBox=\"0 0 24 24\"\n",
              "       width=\"24px\">\n",
              "    <path d=\"M0 0h24v24H0V0z\" fill=\"none\"/>\n",
              "    <path d=\"M18.56 5.44l.94 2.06.94-2.06 2.06-.94-2.06-.94-.94-2.06-.94 2.06-2.06.94zm-11 1L8.5 8.5l.94-2.06 2.06-.94-2.06-.94L8.5 2.5l-.94 2.06-2.06.94zm10 10l.94 2.06.94-2.06 2.06-.94-2.06-.94-.94-2.06-.94 2.06-2.06.94z\"/><path d=\"M17.41 7.96l-1.37-1.37c-.4-.4-.92-.59-1.43-.59-.52 0-1.04.2-1.43.59L10.3 9.45l-7.72 7.72c-.78.78-.78 2.05 0 2.83L4 21.41c.39.39.9.59 1.41.59.51 0 1.02-.2 1.41-.59l7.78-7.78 2.81-2.81c.8-.78.8-2.07 0-2.86zM5.41 20L4 18.59l7.72-7.72 1.47 1.35L5.41 20z\"/>\n",
              "  </svg>\n",
              "      </button>\n",
              "      \n",
              "  <style>\n",
              "    .colab-df-container {\n",
              "      display:flex;\n",
              "      flex-wrap:wrap;\n",
              "      gap: 12px;\n",
              "    }\n",
              "\n",
              "    .colab-df-convert {\n",
              "      background-color: #E8F0FE;\n",
              "      border: none;\n",
              "      border-radius: 50%;\n",
              "      cursor: pointer;\n",
              "      display: none;\n",
              "      fill: #1967D2;\n",
              "      height: 32px;\n",
              "      padding: 0 0 0 0;\n",
              "      width: 32px;\n",
              "    }\n",
              "\n",
              "    .colab-df-convert:hover {\n",
              "      background-color: #E2EBFA;\n",
              "      box-shadow: 0px 1px 2px rgba(60, 64, 67, 0.3), 0px 1px 3px 1px rgba(60, 64, 67, 0.15);\n",
              "      fill: #174EA6;\n",
              "    }\n",
              "\n",
              "    [theme=dark] .colab-df-convert {\n",
              "      background-color: #3B4455;\n",
              "      fill: #D2E3FC;\n",
              "    }\n",
              "\n",
              "    [theme=dark] .colab-df-convert:hover {\n",
              "      background-color: #434B5C;\n",
              "      box-shadow: 0px 1px 3px 1px rgba(0, 0, 0, 0.15);\n",
              "      filter: drop-shadow(0px 1px 2px rgba(0, 0, 0, 0.3));\n",
              "      fill: #FFFFFF;\n",
              "    }\n",
              "  </style>\n",
              "\n",
              "      <script>\n",
              "        const buttonEl =\n",
              "          document.querySelector('#df-d5197612-4d36-4f7d-bdbb-4506e9d1c292 button.colab-df-convert');\n",
              "        buttonEl.style.display =\n",
              "          google.colab.kernel.accessAllowed ? 'block' : 'none';\n",
              "\n",
              "        async function convertToInteractive(key) {\n",
              "          const element = document.querySelector('#df-d5197612-4d36-4f7d-bdbb-4506e9d1c292');\n",
              "          const dataTable =\n",
              "            await google.colab.kernel.invokeFunction('convertToInteractive',\n",
              "                                                     [key], {});\n",
              "          if (!dataTable) return;\n",
              "\n",
              "          const docLinkHtml = 'Like what you see? Visit the ' +\n",
              "            '<a target=\"_blank\" href=https://colab.research.google.com/notebooks/data_table.ipynb>data table notebook</a>'\n",
              "            + ' to learn more about interactive tables.';\n",
              "          element.innerHTML = '';\n",
              "          dataTable['output_type'] = 'display_data';\n",
              "          await google.colab.output.renderOutput(dataTable, element);\n",
              "          const docLink = document.createElement('div');\n",
              "          docLink.innerHTML = docLinkHtml;\n",
              "          element.appendChild(docLink);\n",
              "        }\n",
              "      </script>\n",
              "    </div>\n",
              "  </div>\n",
              "  "
            ],
            "text/plain": [
              "                                             content  sentiment\n",
              "0                            i didnt feel humiliated          0\n",
              "1  i can go from feeling so hopeless to so damned...          0\n",
              "2   im grabbing a minute to post i feel greedy wrong          3\n",
              "3  i am ever feeling nostalgic about the fireplac...          2\n",
              "4                               i am feeling grouchy          3"
            ]
          },
          "execution_count": 8,
          "metadata": {},
          "output_type": "execute_result"
        }
      ],
      "source": [
        "# 'twitter_emotion_dataset.csv' veriseti dosyası okunur ve data değişkenine atanır.\n",
        "data = pd.read_csv('/content/drive/MyDrive/MantraAI/twitter_emotion_dataset.csv')\n",
        "data.head()  #varsayılan olarak data verisinin ilk beş satırı görüntülenir."
      ]
    },
    {
      "cell_type": "code",
      "execution_count": 9,
      "metadata": {
        "colab": {
          "base_uri": "https://localhost:8080/"
        },
        "id": "QYRWjDmsbqtp",
        "outputId": "7472ef47-71df-4f81-bf1b-fb76fe6d78db"
      },
      "outputs": [
        {
          "data": {
            "text/plain": [
              "Index(['content', 'sentiment'], dtype='object')"
            ]
          },
          "execution_count": 9,
          "metadata": {},
          "output_type": "execute_result"
        }
      ],
      "source": [
        "data.columns #data verisinin sütun başlıkları döndürür."
      ]
    },
    {
      "cell_type": "code",
      "execution_count": 10,
      "metadata": {
        "colab": {
          "base_uri": "https://localhost:8080/"
        },
        "id": "JT8-xOp1cDCS",
        "outputId": "b79244d9-64d6-40e6-86ad-b0bbfcf55c6f"
      },
      "outputs": [
        {
          "data": {
            "text/plain": [
              "(20000, 2)"
            ]
          },
          "execution_count": 10,
          "metadata": {},
          "output_type": "execute_result"
        }
      ],
      "source": [
        "data.shape #data verisinin boyutu (satır ve sütun sayısı) görüntülenir."
      ]
    },
    {
      "cell_type": "code",
      "execution_count": 11,
      "metadata": {
        "id": "IfVt3mNj25RZ"
      },
      "outputs": [],
      "source": [
        "# Sentiment değerlerine karşılık gelen sayıları duyguyu ifade eden kelimelere döndürür.\n",
        "def convert_sentiment(value):\n",
        "    if value == 0:\n",
        "        return \"sadness\"\n",
        "    elif value == 1:\n",
        "        return \"joy\"\n",
        "    elif value == 2:\n",
        "        return \"love\"\n",
        "    elif value == 3:\n",
        "        return \"anger\"\n",
        "    elif value == 4:\n",
        "        return \"fear\"\n",
        "    elif value == 5:\n",
        "        return \"surprise\"\n",
        "    else:\n",
        "        return \"\"\n",
        "        "
      ]
    },
    {
      "cell_type": "code",
      "execution_count": 12,
      "metadata": {
        "id": "IzusQNNf29v-"
      },
      "outputs": [],
      "source": [
        "# data verisindeki 'sentiment' sütunu, convert_sentiment() işlevi uygulanarak güncellenir.\n",
        "data['sentiment'] = data['sentiment'].apply(convert_sentiment)"
      ]
    },
    {
      "cell_type": "code",
      "execution_count": 13,
      "metadata": {
        "colab": {
          "base_uri": "https://localhost:8080/"
        },
        "id": "VrbshfPhxJbj",
        "outputId": "5e07eb57-5490-41b3-c767-c1c1ee0c1ab5"
      },
      "outputs": [
        {
          "name": "stdout",
          "output_type": "stream",
          "text": [
            "                                                 content sentiment\n",
            "3083               i feel that people are a shamed of me   sadness\n",
            "11141  i just go into these modes where i want to wri...     anger\n",
            "7917   i feel uncontrollably agitated and i have no i...      fear\n",
            "15043  i can sit here and say its a warm feeling that...       joy\n",
            "15656          id feel nostalgic about gillard hours ago      love\n",
            "4666   i sleep in a dreamy state waking up feeling da...  surprise\n",
            "1313   i feel so blessed to have both lisa and god as...       joy\n",
            "11749  i feel so unimportant to all of them they all ...   sadness\n",
            "12435             i am feeling genuinely proud of myself       joy\n",
            "3210   i changed i feel that im taking advantage of h...     anger\n"
          ]
        }
      ],
      "source": [
        "# data verisinden rastgele 10 örnek görüntülenir.\n",
        "print(data.sample(10))"
      ]
    },
    {
      "cell_type": "code",
      "execution_count": 14,
      "metadata": {
        "colab": {
          "base_uri": "https://localhost:8080/"
        },
        "id": "og2Rrc1NxODq",
        "outputId": "4169b02c-5b95-4d87-978a-669d2a40cde5"
      },
      "outputs": [
        {
          "name": "stdout",
          "output_type": "stream",
          "text": [
            "sentiment\n",
            "anger       2709\n",
            "fear        2373\n",
            "joy         6761\n",
            "love        1641\n",
            "sadness     5797\n",
            "surprise     719\n",
            "dtype: int64\n"
          ]
        }
      ],
      "source": [
        "# sentiment sütununa göre gruplandırılan verinin boyutu görüntülenir.\n",
        "print(data.groupby('sentiment').size())"
      ]
    },
    {
      "cell_type": "code",
      "execution_count": 15,
      "metadata": {
        "id": "g56cxoFz4ik3"
      },
      "outputs": [],
      "source": [
        "# data verisi karıştırılır ve indeksler sıfırlanır.\n",
        "data = data.sample(frac=1, random_state=42).reset_index(drop=True)"
      ]
    },
    {
      "cell_type": "code",
      "execution_count": 16,
      "metadata": {
        "id": "6fg4qOPy4mwt"
      },
      "outputs": [],
      "source": [
        "# data eğitim, test ve doğrulama verisi olarak bölmek için oranlanır.\n",
        "train_ratio = 0.70\n",
        "val_ratio = 0.15\n",
        "test_ratio = 0.15\n",
        "\n",
        "train_size = int(train_ratio * len(data))\n",
        "val_size = int(val_ratio * len(data))\n",
        "test_size = len(data) - train_size - val_size"
      ]
    },
    {
      "cell_type": "code",
      "execution_count": 17,
      "metadata": {
        "id": "kn4On0np4qDS"
      },
      "outputs": [],
      "source": [
        "# train_data, val_data ve test_data değişkenlerine belirtilen oranlara göre bölünmüş veriler atanır.\n",
        "train_data = data[:train_size]\n",
        "val_data = data[train_size:train_size+val_size]\n",
        "test_data = data[train_size+val_size:]"
      ]
    },
    {
      "cell_type": "code",
      "execution_count": 18,
      "metadata": {
        "colab": {
          "base_uri": "https://localhost:8080/"
        },
        "id": "TAqh3opCN1rc",
        "outputId": "917723f1-17da-43da-ba14-77a7dd7e0830"
      },
      "outputs": [
        {
          "data": {
            "text/plain": [
              "(14000, 2)"
            ]
          },
          "execution_count": 18,
          "metadata": {},
          "output_type": "execute_result"
        }
      ],
      "source": [
        "# train_data verisinin boyutu görüntülenir.\n",
        "train_data.shape"
      ]
    },
    {
      "cell_type": "code",
      "execution_count": 19,
      "metadata": {
        "id": "8kBdcwEx4sO1"
      },
      "outputs": [],
      "source": [
        "# preprocess fonksiyonu verilen bir metni ön işleme adımlarından geçirerek metin veri temizliği ve düzenlemesi yapar. \n",
        "# stopword'leri atar, harf dışı karakterleri atar, kelimelerin köklerini bulur. \n",
        "# bu şekilde metindeki gürültüleri atarak metni tokenlemek için hazır hale getirir.\n",
        "def preprocess(sentence):\n",
        "    stop_words = set(stopwords.words('english'))\n",
        "    lemmatizer = WordNetLemmatizer()\n",
        "    sentence = re.sub('[^A-z]', ' ', sentence) \n",
        "    negative = ['not', 'neither', 'nor', 'but', 'however', 'although', 'nonetheless', 'despite', 'except',\n",
        "                'even though', 'yet']\n",
        "    stop_words = [z for z in stop_words if z not in negative]\n",
        "    preprocessed_tokens = [lemmatizer.lemmatize(contractions.fix(temp.lower())) for temp in sentence.split() if\n",
        "                           temp not in stop_words]  # lemmatization\n",
        "    return ' '.join([x for x in preprocessed_tokens]).strip()\n"
      ]
    },
    {
      "cell_type": "code",
      "execution_count": 20,
      "metadata": {
        "colab": {
          "base_uri": "https://localhost:8080/"
        },
        "id": "0qEbO0HI4vxj",
        "outputId": "91e7ee72-01e2-44a4-815c-ace0a6d4cce5"
      },
      "outputs": [
        {
          "name": "stderr",
          "output_type": "stream",
          "text": [
            "<ipython-input-20-44ab6ea56458>:1: SettingWithCopyWarning: \n",
            "A value is trying to be set on a copy of a slice from a DataFrame.\n",
            "Try using .loc[row_indexer,col_indexer] = value instead\n",
            "\n",
            "See the caveats in the documentation: https://pandas.pydata.org/pandas-docs/stable/user_guide/indexing.html#returning-a-view-versus-a-copy\n",
            "  train_data['content'] = train_data['content'].apply(preprocess)\n",
            "<ipython-input-20-44ab6ea56458>:2: SettingWithCopyWarning: \n",
            "A value is trying to be set on a copy of a slice from a DataFrame.\n",
            "Try using .loc[row_indexer,col_indexer] = value instead\n",
            "\n",
            "See the caveats in the documentation: https://pandas.pydata.org/pandas-docs/stable/user_guide/indexing.html#returning-a-view-versus-a-copy\n",
            "  val_data['content'] = val_data['content'].apply(preprocess)\n",
            "<ipython-input-20-44ab6ea56458>:3: SettingWithCopyWarning: \n",
            "A value is trying to be set on a copy of a slice from a DataFrame.\n",
            "Try using .loc[row_indexer,col_indexer] = value instead\n",
            "\n",
            "See the caveats in the documentation: https://pandas.pydata.org/pandas-docs/stable/user_guide/indexing.html#returning-a-view-versus-a-copy\n",
            "  test_data['content'] = test_data['content'].apply(preprocess)\n"
          ]
        }
      ],
      "source": [
        "# datalardaki 'content' sütunları, preprocess() işlevi uygulanarak güncellenir.\n",
        "train_data['content'] = train_data['content'].apply(preprocess)\n",
        "val_data['content'] = val_data['content'].apply(preprocess)\n",
        "test_data['content'] = test_data['content'].apply(preprocess)"
      ]
    },
    {
      "cell_type": "code",
      "execution_count": 21,
      "metadata": {
        "colab": {
          "base_uri": "https://localhost:8080/"
        },
        "id": "aqHctL5JRNHf",
        "outputId": "fedf2ac1-3a69-4cbb-d87e-f1fe7d2c63c0"
      },
      "outputs": [
        {
          "data": {
            "text/plain": [
              "0        noticed several month ago start feeling resent...\n",
              "1        love lot different kind sport love hanging fri...\n",
              "2                         feel even killed agonized extent\n",
              "3                    feel numb way wound really start hurt\n",
              "4        feel happy inspired little si love reading wri...\n",
              "                               ...                        \n",
              "13995                          say feel like i am tortured\n",
              "13996    trying think anywhere else i have made feel aw...\n",
              "13997    still feel shaky worst hit area damage destruc...\n",
              "13998    think feel flushing alarmed headache medicine ...\n",
              "13999                              like feeling devastated\n",
              "Name: content, Length: 14000, dtype: object"
            ]
          },
          "execution_count": 21,
          "metadata": {},
          "output_type": "execute_result"
        }
      ],
      "source": [
        "train_data['content']"
      ]
    },
    {
      "cell_type": "code",
      "execution_count": 22,
      "metadata": {
        "id": "DHHDHOTTTvO7"
      },
      "outputs": [],
      "source": [
        "# Azınlık sınıfından rastgele seçilen örneklerin eklenmesiyle veri seti dengelenir.\n",
        "# Bir örnekleme nesnesi ros oluşturulur, bu yöntemle eğitim verileri dengelenir.\n",
        "from imblearn.over_sampling import RandomOverSampler\n",
        "ros = RandomOverSampler(random_state=0)\n",
        "X_train, y_train = ros.fit_resample(np.array(train_data['content']).reshape(-1, 1), np.array(train_data['sentiment']).reshape(-1, 1))\n",
        "train = pd.DataFrame(list(zip([x[0] for x in X_train], y_train)), columns = ['content', 'sentiment'])"
      ]
    },
    {
      "cell_type": "code",
      "execution_count": 23,
      "metadata": {
        "id": "76nkErPrRlEv"
      },
      "outputs": [],
      "source": [
        "# Duygu sınıflarını çoklu sınıf kodlamasına dönüştürmek için pd.get_dummies() fonksiyonu kullanılır.\n",
        "y_train = pd.get_dummies(train['sentiment']).values\n",
        "y_test = pd.get_dummies(test_data['sentiment']).values\n",
        "y_val = pd.get_dummies(val_data['sentiment']).values"
      ]
    },
    {
      "cell_type": "code",
      "execution_count": 24,
      "metadata": {
        "colab": {
          "base_uri": "https://localhost:8080/"
        },
        "id": "fyOGQkJgSK0r",
        "outputId": "8b8fdb30-78dc-414f-a0aa-48b37961ec71"
      },
      "outputs": [
        {
          "data": {
            "text/plain": [
              "array([[1, 0, 0, 0, 0, 0],\n",
              "       [0, 0, 1, 0, 0, 0],\n",
              "       [0, 0, 0, 0, 1, 0],\n",
              "       ...,\n",
              "       [0, 0, 0, 0, 0, 1],\n",
              "       [0, 0, 0, 0, 0, 1],\n",
              "       [0, 0, 0, 0, 0, 1]], dtype=uint8)"
            ]
          },
          "execution_count": 24,
          "metadata": {},
          "output_type": "execute_result"
        }
      ],
      "source": [
        "y_train"
      ]
    },
    {
      "cell_type": "code",
      "execution_count": 25,
      "metadata": {
        "id": "Vy8jXaO45tin"
      },
      "outputs": [],
      "source": [
        "# Hugging Face tarafından sağlanan transformers kütüphanesini kullanarak \n",
        "# \"roberta-base\" adlı önceden eğitilmiş bir Roberta modeli için bir tokenizer oluşturur.\n",
        "from transformers import RobertaTokenizerFast\n",
        "tokenizer = RobertaTokenizerFast.from_pretrained(\"roberta-base\")"
      ]
    },
    {
      "cell_type": "code",
      "execution_count": 26,
      "metadata": {
        "colab": {
          "base_uri": "https://localhost:8080/"
        },
        "id": "i5saotS5iXbb",
        "outputId": "9c3fae59-b31d-42a4-f233-784fdbdf8fdc"
      },
      "outputs": [
        {
          "data": {
            "text/plain": [
              "['Bir',\n",
              " 'Ġmil',\n",
              " 'let',\n",
              " 'i',\n",
              " 'Ġya',\n",
              " 'ÅŁ',\n",
              " 'atan',\n",
              " 'Ġcan',\n",
              " 'Ġdam',\n",
              " 'arl',\n",
              " 'ar',\n",
              " 'Ä±',\n",
              " 'nd',\n",
              " 'an',\n",
              " 'Ġb',\n",
              " 'iri',\n",
              " 'Ġsan',\n",
              " 'att',\n",
              " 'Ä±',\n",
              " 'r',\n",
              " 'Ġk',\n",
              " 'u',\n",
              " 'ÅŁ',\n",
              " 'kus',\n",
              " 'uz',\n",
              " '.']"
            ]
          },
          "execution_count": 26,
          "metadata": {},
          "output_type": "execute_result"
        }
      ],
      "source": [
        "# verilen örnek metni Roberta tokenizer'ı kullanarak tokenlara böler.\n",
        "tokenizer.tokenize(\"Bir milleti yaşatan can damarlarından biri sanattır kuşkusuz.\")"
      ]
    },
    {
      "cell_type": "code",
      "execution_count": 27,
      "metadata": {
        "colab": {
          "base_uri": "https://localhost:8080/"
        },
        "id": "nDfkg0sqi7Uj",
        "outputId": "51beb8b5-dff6-4f19-de1e-42ce9ed3d9bd"
      },
      "outputs": [
        {
          "data": {
            "text/plain": [
              "['I',\n",
              " 'Ġfeel',\n",
              " 'Ġtired',\n",
              " ',',\n",
              " 'Ġhelpless',\n",
              " 'Ġand',\n",
              " 'Ġhopeless',\n",
              " '.',\n",
              " 'ĠToken',\n",
              " 'ization',\n",
              " 'Ġexample']"
            ]
          },
          "execution_count": 27,
          "metadata": {},
          "output_type": "execute_result"
        }
      ],
      "source": [
        "tokenizer.tokenize(\"I feel tired, helpless and hopeless. Tokenization example\")"
      ]
    },
    {
      "cell_type": "code",
      "execution_count": 59,
      "metadata": {
        "id": "15-YSAdJYtne"
      },
      "outputs": [],
      "source": [
        "# Hugging Face tarafından sağlanan transformers kütüphanesini kullanarak \n",
        "# \"bert-base-uncased\" adlı önceden eğitilmiş bir Bert modeli için bir tokenizer oluşturur.\n",
        "from transformers import BertTokenizer\n",
        "Bert_tokenizer = BertTokenizer.from_pretrained(\"bert-base-uncased\")"
      ]
    },
    {
      "cell_type": "code",
      "execution_count": 60,
      "metadata": {
        "colab": {
          "base_uri": "https://localhost:8080/"
        },
        "id": "74tLhYIbYyKk",
        "outputId": "b8a0521e-520b-47b9-d915-d0d5c5041772"
      },
      "outputs": [
        {
          "data": {
            "text/plain": [
              "['bi',\n",
              " '##r',\n",
              " 'mill',\n",
              " '##eti',\n",
              " 'ya',\n",
              " '##sat',\n",
              " '##an',\n",
              " 'can',\n",
              " 'dam',\n",
              " '##ar',\n",
              " '##lar',\n",
              " '##ı',\n",
              " '##nda',\n",
              " '##n',\n",
              " 'bi',\n",
              " '##ri',\n",
              " 'san',\n",
              " '##att',\n",
              " '##ı',\n",
              " '##r',\n",
              " 'ku',\n",
              " '##sk',\n",
              " '##us',\n",
              " '##uz',\n",
              " '.']"
            ]
          },
          "execution_count": 60,
          "metadata": {},
          "output_type": "execute_result"
        }
      ],
      "source": [
        "# verilen örnek metni Bert tokenizer'ı kullanarak tokenlara böler.\n",
        "Bert_tokenizer.tokenize(\"Bir milleti yaşatan can damarlarından biri sanattır kuşkusuz.\")"
      ]
    },
    {
      "cell_type": "code",
      "execution_count": 61,
      "metadata": {
        "colab": {
          "base_uri": "https://localhost:8080/"
        },
        "id": "J5O_FV8LY1Oq",
        "outputId": "b84ad4cb-2b43-496b-ea94-7926a33b3133"
      },
      "outputs": [
        {
          "data": {
            "text/plain": [
              "['i',\n",
              " 'feel',\n",
              " 'tired',\n",
              " ',',\n",
              " 'helpless',\n",
              " 'and',\n",
              " 'hopeless',\n",
              " '.',\n",
              " 'token',\n",
              " '##ization',\n",
              " 'example',\n",
              " '.']"
            ]
          },
          "execution_count": 61,
          "metadata": {},
          "output_type": "execute_result"
        }
      ],
      "source": [
        "Bert_tokenizer.tokenize(\"I feel tired, helpless and hopeless. Tokenization example.\")"
      ]
    },
    {
      "cell_type": "code",
      "execution_count": 28,
      "metadata": {
        "id": "9uOtgJ1M9C13"
      },
      "outputs": [],
      "source": [
        "# roberta_encode fonksiyonu, veriyi tokenize edip \n",
        "# Roberta modelin işleyebileceği şekilde vektörleştirir.\n",
        "def roberta_encode(data, maximum_length):\n",
        "    input_ids = []\n",
        "    attention_masks = []\n",
        "\n",
        "    for content in data.content:\n",
        "        encoded = encode_text(content, maximum_length)\n",
        "        input_ids.append(encoded['input_ids'])\n",
        "        attention_masks.append(encoded['attention_mask'])\n",
        "\n",
        "    return np.array(input_ids), np.array(attention_masks)\n",
        "\n",
        "# encode_text fonksiyonu metni kodlamak için tokenizer.encode_plus() yöntemini kullanır.\n",
        "def encode_text(text, maximum_length):\n",
        "    encoded = tokenizer.encode_plus(\n",
        "        text,\n",
        "        add_special_tokens=True,\n",
        "        max_length=maximum_length,\n",
        "        pad_to_max_length=True,\n",
        "        return_attention_mask=True,\n",
        "      )\n",
        "    return encoded\n"
      ]
    },
    {
      "cell_type": "code",
      "execution_count": 29,
      "metadata": {
        "colab": {
          "base_uri": "https://localhost:8080/"
        },
        "id": "l1r7CM9eIMKz",
        "outputId": "a2cdde0e-5ecc-43db-cc0a-3d0e3270b51e"
      },
      "outputs": [
        {
          "data": {
            "text/plain": [
              "(28284, 1)"
            ]
          },
          "execution_count": 29,
          "metadata": {},
          "output_type": "execute_result"
        }
      ],
      "source": [
        "X_train.shape"
      ]
    },
    {
      "cell_type": "code",
      "execution_count": 30,
      "metadata": {
        "colab": {
          "base_uri": "https://localhost:8080/"
        },
        "id": "p2lTHofPNwhA",
        "outputId": "e818c5e4-b34d-4c50-bc10-1be631693d44"
      },
      "outputs": [
        {
          "data": {
            "text/plain": [
              "(28284, 6)"
            ]
          },
          "execution_count": 30,
          "metadata": {},
          "output_type": "execute_result"
        }
      ],
      "source": [
        "y_train.shape"
      ]
    },
    {
      "cell_type": "code",
      "execution_count": 31,
      "metadata": {
        "colab": {
          "base_uri": "https://localhost:8080/"
        },
        "id": "hc5du_aT8yy0",
        "outputId": "7af4dbfa-7aaa-40fd-9edd-5cd518aff309"
      },
      "outputs": [
        {
          "name": "stderr",
          "output_type": "stream",
          "text": [
            "Truncation was not explicitly activated but `max_length` is provided a specific value, please use `truncation=True` to explicitly truncate examples to max length. Defaulting to 'longest_first' truncation strategy. If you encode pairs of sequences (GLUE-style) with the tokenizer you can select this strategy more precisely by providing a specific strategy to `truncation`.\n",
            "/usr/local/lib/python3.10/dist-packages/transformers/tokenization_utils_base.py:2364: FutureWarning: The `pad_to_max_length` argument is deprecated and will be removed in a future version, use `padding=True` or `padding='longest'` to pad to the longest sequence in the batch, or use `padding='max_length'` to pad to a max length. In this case, you can give a specific length with `max_length` (e.g. `max_length=45`) or leave max_length to None to pad to the maximal input size of the model (e.g. 512 for Bert).\n",
            "  warnings.warn(\n"
          ]
        }
      ],
      "source": [
        "#max_len değişkenine train_data['content'] içindeki en uzun metnin kelime sayısı bulunup atanır.\n",
        "max_len = max([len(x.split()) for x in train_data['content']])\n",
        "#eğitim, test ve doğrulama verileri sayısallaştırılır.\n",
        "train_input_ids,train_attention_masks = roberta_encode(train, max_len)\n",
        "test_input_ids,test_attention_masks = roberta_encode(test_data, max_len)\n",
        "val_input_ids,val_attention_masks = roberta_encode(val_data, max_len)"
      ]
    },
    {
      "cell_type": "code",
      "execution_count": 32,
      "metadata": {
        "colab": {
          "base_uri": "https://localhost:8080/"
        },
        "id": "R6AeEJzVxllW",
        "outputId": "78b3abe6-b85a-4bb1-8e1b-8d7fe49fb6fc"
      },
      "outputs": [
        {
          "name": "stdout",
          "output_type": "stream",
          "text": [
            "Original:  ['noticed several month ago start feeling resentful walked toward pedestrian crossing intention course crossing road']\n"
          ]
        }
      ],
      "source": [
        "print('Original: ', X_train[0])"
      ]
    },
    {
      "cell_type": "code",
      "execution_count": 33,
      "metadata": {
        "colab": {
          "base_uri": "https://localhost:8080/"
        },
        "id": "diC9YpCNl09b",
        "outputId": "c2d7c721-e203-4bf3-c250-a16e0c5f3fb1"
      },
      "outputs": [
        {
          "name": "stdout",
          "output_type": "stream",
          "text": [
            "[    0 47202   484   353   536   386  2157 31379  2650  3203  1706 11038\n",
            "  6724  6589   768  6724   921     2     1     1     1     1     1     1\n",
            "     1     1     1     1     1     1     1     1     1     1     1     1\n",
            "     1     1     1     1     1     1     1]\n"
          ]
        }
      ],
      "source": [
        "print(train_input_ids[0])\n"
      ]
    },
    {
      "cell_type": "code",
      "execution_count": 34,
      "metadata": {
        "colab": {
          "base_uri": "https://localhost:8080/"
        },
        "id": "4fwyWwMHmCPc",
        "outputId": "de0b322e-200e-4b7b-df02-68ff19a996d1"
      },
      "outputs": [
        {
          "name": "stdout",
          "output_type": "stream",
          "text": [
            "[1 1 1 1 1 1 1 1 1 1 1 1 1 1 1 1 1 1 0 0 0 0 0 0 0 0 0 0 0 0 0 0 0 0 0 0 0\n",
            " 0 0 0 0 0 0]\n"
          ]
        }
      ],
      "source": [
        "print(train_attention_masks[0])"
      ]
    },
    {
      "cell_type": "code",
      "execution_count": 35,
      "metadata": {
        "id": "o3V7CATa70yC"
      },
      "outputs": [],
      "source": [
        "# bu fonksiyon ile Roberta modelini kullanarak bir duygu analizi modeli oluşturulur.\n",
        "def create_model(roberta_model, max_len):\n",
        "    input_ids = tf.keras.Input(shape=(max_len,),dtype='int32')\n",
        "    attention_masks = tf.keras.Input(shape=(max_len,),dtype='int32')\n",
        "\n",
        "    output = roberta_model([input_ids,attention_masks])\n",
        "    output = output[1]\n",
        "\n",
        "    output = tf.keras.layers.Dense(6, activation='softmax')(output)\n",
        "    model = tf.keras.models.Model(inputs = [input_ids,attention_masks],outputs = output)\n",
        "    model.compile(Adam(learning_rate=1e-5), \n",
        "    loss='categorical_crossentropy', \n",
        "    metrics=['accuracy'])\n",
        "    return model"
      ]
    },
    {
      "cell_type": "code",
      "execution_count": 36,
      "metadata": {
        "colab": {
          "base_uri": "https://localhost:8080/"
        },
        "id": "Ildki4EY9kLQ",
        "outputId": "9f57ec45-6b7d-4819-bf34-37d811d16370"
      },
      "outputs": [
        {
          "name": "stderr",
          "output_type": "stream",
          "text": [
            "Some layers from the model checkpoint at roberta-base were not used when initializing TFRobertaModel: ['lm_head']\n",
            "- This IS expected if you are initializing TFRobertaModel from the checkpoint of a model trained on another task or with another architecture (e.g. initializing a BertForSequenceClassification model from a BertForPreTraining model).\n",
            "- This IS NOT expected if you are initializing TFRobertaModel from the checkpoint of a model that you expect to be exactly identical (initializing a BertForSequenceClassification model from a BertForSequenceClassification model).\n",
            "All the layers of TFRobertaModel were initialized from the model checkpoint at roberta-base.\n",
            "If your task is similar to the task the model of the checkpoint was trained on, you can already use TFRobertaModel for predictions without further training.\n"
          ]
        },
        {
          "name": "stdout",
          "output_type": "stream",
          "text": [
            "Epoch 1/5\n",
            "283/283 [==============================] - 309s 917ms/step - loss: 0.6434 - accuracy: 0.7472 - val_loss: 0.2395 - val_accuracy: 0.9163\n",
            "Epoch 2/5\n",
            "283/283 [==============================] - 244s 862ms/step - loss: 0.1648 - accuracy: 0.9392 - val_loss: 0.1946 - val_accuracy: 0.9277\n",
            "Epoch 3/5\n",
            "283/283 [==============================] - 242s 854ms/step - loss: 0.1254 - accuracy: 0.9516 - val_loss: 0.2100 - val_accuracy: 0.9310\n",
            "Epoch 4/5\n",
            "283/283 [==============================] - 244s 861ms/step - loss: 0.1000 - accuracy: 0.9600 - val_loss: 0.1851 - val_accuracy: 0.9297\n",
            "Epoch 5/5\n",
            "283/283 [==============================] - 244s 862ms/step - loss: 0.0806 - accuracy: 0.9683 - val_loss: 0.2137 - val_accuracy: 0.9327\n"
          ]
        }
      ],
      "source": [
        "#  Transformers kütüphanesinden TFRobertaModel sınıfı kullanarak bir Roberta modeli oluşturulur\n",
        "# ve bu modeli kullanarak bir model eğitimi gerçekleştirilir.\n",
        "from transformers import TFRobertaModel\n",
        "roberta_model = TFRobertaModel.from_pretrained('roberta-base')\n",
        "model = create_model(roberta_model, max_len)\n",
        "#Model, eğitim verileri üzerinde belirtilen sayıda epoch ve iterasyon sayısıyla eğitilir.\n",
        "history = model.fit([train_input_ids,train_attention_masks], y_train, validation_data=([val_input_ids,val_attention_masks], y_val), epochs=5,batch_size=100)"
      ]
    },
    {
      "cell_type": "code",
      "execution_count": 37,
      "metadata": {
        "colab": {
          "base_uri": "https://localhost:8080/",
          "height": 472
        },
        "id": "lo33woe7ZFgI",
        "outputId": "8e106e81-ccf2-4c1c-ba19-a711f36c6c5b"
      },
      "outputs": [
        {
          "data": {
            "image/png": "[encoded data removed]",
            "text/plain": [
              "<Figure size 640x480 with 1 Axes>"
            ]
          },
          "metadata": {},
          "output_type": "display_data"
        }
      ],
      "source": [
        "#Eğitim sırasında elde edilen doğruluk değerleri grafikleştirilir.\n",
        "plt.plot(history.history['accuracy'])\n",
        "plt.plot(history.history['val_accuracy'])\n",
        "plt.title('model accuracy')\n",
        "plt.ylabel('accuracy')\n",
        "plt.xlabel('epoch')\n",
        "plt.legend(['train', 'val'], loc='upper left')\n",
        "plt.show()"
      ]
    },
    {
      "cell_type": "code",
      "execution_count": 38,
      "metadata": {
        "colab": {
          "base_uri": "https://localhost:8080/",
          "height": 472
        },
        "id": "Zw1Qx_LuZQ1U",
        "outputId": "6089a096-9971-4b6b-fffa-f23a50074df6"
      },
      "outputs": [
        {
          "data": {
            "image/png": "[encoded data removed]",
            "text/plain": [
              "<Figure size 640x480 with 1 Axes>"
            ]
          },
          "metadata": {},
          "output_type": "display_data"
        }
      ],
      "source": [
        "#Eğitim sırasında elde edilen kayıp değerleri grafikleştirilir.\n",
        "plt.plot(history.history['loss'])\n",
        "plt.plot(history.history['val_loss'])\n",
        "plt.title('model loss')\n",
        "plt.ylabel('loss')\n",
        "plt.xlabel('epoch')\n",
        "plt.legend(['train', 'val'], loc='upper right')\n",
        "plt.show()"
      ]
    },
    {
      "cell_type": "code",
      "execution_count": 39,
      "metadata": {
        "colab": {
          "base_uri": "https://localhost:8080/"
        },
        "id": "4v79DxPfBR4S",
        "outputId": "0bf02e1a-925b-474b-f6a9-002cc4e805ef"
      },
      "outputs": [
        {
          "name": "stdout",
          "output_type": "stream",
          "text": [
            "94/94 [==============================] - 13s 104ms/step\n"
          ]
        }
      ],
      "source": [
        "# modelin tahminlerini kullanarak test verisi üzerinde sınıflandırma yapılır.\n",
        "result = model.predict([test_input_ids, test_attention_masks])\n",
        "y_pred = np.eye(result.shape[1])[np.argmax(result, axis=1)]"
      ]
    },
    {
      "cell_type": "code",
      "execution_count": 40,
      "metadata": {
        "colab": {
          "base_uri": "https://localhost:8080/"
        },
        "id": "-aIo9O7PCjPH",
        "outputId": "42f59c4f-9e7a-4881-b985-b3080e912f09"
      },
      "outputs": [
        {
          "name": "stdout",
          "output_type": "stream",
          "text": [
            "Accuracy 0.9233333333333333\n"
          ]
        }
      ],
      "source": [
        "# sınıflandırma tahminlerinin doğruluğu hesaplanır.\n",
        "from sklearn.metrics import accuracy_score\n",
        "accuracy = accuracy_score(y_test, y_pred)\n",
        "print('Accuracy', accuracy)"
      ]
    },
    {
      "cell_type": "code",
      "execution_count": 41,
      "metadata": {
        "colab": {
          "base_uri": "https://localhost:8080/"
        },
        "id": "dRe9_UzhDVRb",
        "outputId": "f013a5b7-8bac-4ff0-dac1-711fd19ffbe3"
      },
      "outputs": [
        {
          "name": "stderr",
          "output_type": "stream",
          "text": [
            "WARNING:absl:Found untraced functions such as encoder_layer_call_fn, encoder_layer_call_and_return_conditional_losses, pooler_layer_call_fn, pooler_layer_call_and_return_conditional_losses, embeddings_layer_call_fn while saving (showing 5 of 420). These functions will not be directly callable after loading.\n"
          ]
        }
      ],
      "source": [
        "#eğitilmiş model kaydedilir.\n",
        "model.save('my_MantraAI_model')"
      ]
    },
    {
      "cell_type": "code",
      "execution_count": 42,
      "metadata": {
        "id": "m7F253n_ZrmH"
      },
      "outputs": [],
      "source": [
        "# verilen metnin Roberta modeliyle uyumlu hale getirilmesi için kodlama(vektörleştirme) yapılır.\n",
        "def roberta_inference_encode(data,maximum_length) :\n",
        "    input_ids = []\n",
        "    attention_masks = []\n",
        "  \n",
        "    encoded = tokenizer.encode_plus(\n",
        "    data,\n",
        "    add_special_tokens=True,\n",
        "    max_length=maximum_length,\n",
        "    pad_to_max_length=True,\n",
        "    return_attention_mask=True\n",
        "    )\n",
        "    input_ids.append(encoded['input_ids'])\n",
        "    attention_masks.append(encoded['attention_mask'])\n",
        "    return np.array(input_ids),np.array(attention_masks)"
      ]
    },
    {
      "cell_type": "code",
      "execution_count": 43,
      "metadata": {
        "id": "gdbmrDE-Ffa6"
      },
      "outputs": [],
      "source": [
        "# metin cümlesi ön işlemden geçirilerek kodlanır ve duygu tahmini yaptırılır.\n",
        "def inference(text_sentence, max_len):\n",
        "    preprocessed_text = preprocess(text_sentence)\n",
        "    input_ids, attention_masks = roberta_inference_encode(preprocessed_text, maximum_length=max_len)\n",
        "    model = create_model(roberta_model, max_len)\n",
        "    model.load_weights('my_MantraAI_model')\n",
        "    result = model.predict([input_ids, attention_masks])\n",
        "\n",
        "    # kategori etiketleri için get_dummies ile oluşturulan kolon isimleri listelenerek kullanılır.\n",
        "    category_labels = pd.get_dummies(train['sentiment']).columns.tolist()\n",
        "    # tahmin sonuçları, kategori etiketlerini ve ilgili duygusal puanları içeren \n",
        "    # bir DataFrame olarak düzenlenir ve döndürülür.\n",
        "    result = pd.DataFrame(dict(zip(category_labels, [round(x*100, 2) for x in result[0]])).items(), columns=['emotion', 'rate'])\n",
        "    return result\n"
      ]
    },
    {
      "cell_type": "code",
      "execution_count": 44,
      "metadata": {
        "colab": {
          "base_uri": "https://localhost:8080/"
        },
        "id": "d6EUV0EcjThJ",
        "outputId": "65258d60-aa70-4349-9e69-5c38e1eb8152"
      },
      "outputs": [
        {
          "name": "stdout",
          "output_type": "stream",
          "text": [
            " I feel tired, helpless and hopeless.\n"
          ]
        }
      ],
      "source": [
        "#hatırlatma yapmak için speech_text ekrana yazdırılır.\n",
        "print(speech_sentence)"
      ]
    },
    {
      "cell_type": "code",
      "execution_count": 45,
      "metadata": {
        "colab": {
          "base_uri": "https://localhost:8080/"
        },
        "id": "WcqaWYnlZu2y",
        "outputId": "5a9c3b04-98d2-4af0-e076-43a544b28b70"
      },
      "outputs": [
        {
          "name": "stderr",
          "output_type": "stream",
          "text": [
            "/usr/local/lib/python3.10/dist-packages/transformers/tokenization_utils_base.py:2364: FutureWarning: The `pad_to_max_length` argument is deprecated and will be removed in a future version, use `padding=True` or `padding='longest'` to pad to the longest sequence in the batch, or use `padding='max_length'` to pad to a max length. In this case, you can give a specific length with `max_length` (e.g. `max_length=45`) or leave max_length to None to pad to the maximal input size of the model (e.g. 512 for Bert).\n",
            "  warnings.warn(\n"
          ]
        },
        {
          "name": "stdout",
          "output_type": "stream",
          "text": [
            "1/1 [==============================] - 3s 3s/step\n",
            "    emotion   rate\n",
            "0     anger   0.03\n",
            "1      fear   0.00\n",
            "2       joy   0.01\n",
            "3      love   0.00\n",
            "4   sadness  99.96\n",
            "5  surprise   0.00\n"
          ]
        }
      ],
      "source": [
        "#inference fonksiyonu ile metin cümlesinin duygusal tahmini yaptırılıp ekrana yazdırılır.\n",
        "result = inference(speech_sentence, max_len)\n",
        "print(result)"
      ]
    },
    {
      "cell_type": "code",
      "execution_count": 46,
      "metadata": {
        "colab": {
          "base_uri": "https://localhost:8080/"
        },
        "id": "gUl16asOGlGv",
        "outputId": "5a7854e3-6da3-4bd2-cb8f-2d7b29471e4a"
      },
      "outputs": [
        {
          "name": "stdout",
          "output_type": "stream",
          "text": [
            "sadness\n"
          ]
        }
      ],
      "source": [
        "# en yüksek puanlı duygu kategorisi bi değişkene atanarak yazdırılır.\n",
        "highest_rate_emotion = result.loc[result['rate'].idxmax(), 'emotion']\n",
        "print(highest_rate_emotion)\n"
      ]
    },
    {
      "cell_type": "code",
      "execution_count": 47,
      "metadata": {
        "id": "swwugxT4a24v"
      },
      "outputs": [],
      "source": [
        "# Mantralar dosyası okunur ve mantra_excel'e atanır.\n",
        "mantra_excel = pd.read_excel(\"/content/drive/MyDrive/MantraAI/Mantralar.xlsx\")"
      ]
    },
    {
      "cell_type": "code",
      "execution_count": 48,
      "metadata": {
        "colab": {
          "base_uri": "https://localhost:8080/",
          "height": 206
        },
        "id": "cNE-13fVdJFA",
        "outputId": "fad08a18-f323-47c6-c693-68415fede134"
      },
      "outputs": [
        {
          "data": {
            "text/html": [
              "\n",
              "  <div id=\"df-509f165b-a61d-44d2-a281-888b4e320b14\">\n",
              "    <div class=\"colab-df-container\">\n",
              "      <div>\n",
              "<style scoped>\n",
              "    .dataframe tbody tr th:only-of-type {\n",
              "        vertical-align: middle;\n",
              "    }\n",
              "\n",
              "    .dataframe tbody tr th {\n",
              "        vertical-align: top;\n",
              "    }\n",
              "\n",
              "    .dataframe thead th {\n",
              "        text-align: right;\n",
              "    }\n",
              "</style>\n",
              "<table border=\"1\" class=\"dataframe\">\n",
              "  <thead>\n",
              "    <tr style=\"text-align: right;\">\n",
              "      <th></th>\n",
              "      <th>Mantra</th>\n",
              "      <th>Sentiment</th>\n",
              "    </tr>\n",
              "  </thead>\n",
              "  <tbody>\n",
              "    <tr>\n",
              "      <th>0</th>\n",
              "      <td>Hayatın bana verdiği tüm hediyeler için minnet...</td>\n",
              "      <td>joy</td>\n",
              "    </tr>\n",
              "    <tr>\n",
              "      <th>1</th>\n",
              "      <td>İyi bir hayat yaşıyorum</td>\n",
              "      <td>joy</td>\n",
              "    </tr>\n",
              "    <tr>\n",
              "      <th>2</th>\n",
              "      <td>Sevgi yayıyorum ve karşılığında kabul ediyorum</td>\n",
              "      <td>joy</td>\n",
              "    </tr>\n",
              "    <tr>\n",
              "      <th>3</th>\n",
              "      <td>Şu anda burada iyiyim ve mutluyum</td>\n",
              "      <td>joy</td>\n",
              "    </tr>\n",
              "    <tr>\n",
              "      <th>4</th>\n",
              "      <td>Ben mutluluğa layıkım</td>\n",
              "      <td>joy</td>\n",
              "    </tr>\n",
              "  </tbody>\n",
              "</table>\n",
              "</div>\n",
              "      <button class=\"colab-df-convert\" onclick=\"convertToInteractive('df-509f165b-a61d-44d2-a281-888b4e320b14')\"\n",
              "              title=\"Convert this dataframe to an interactive table.\"\n",
              "              style=\"display:none;\">\n",
              "        \n",
              "  <svg xmlns=\"http://www.w3.org/2000/svg\" height=\"24px\"viewBox=\"0 0 24 24\"\n",
              "       width=\"24px\">\n",
              "    <path d=\"M0 0h24v24H0V0z\" fill=\"none\"/>\n",
              "    <path d=\"M18.56 5.44l.94 2.06.94-2.06 2.06-.94-2.06-.94-.94-2.06-.94 2.06-2.06.94zm-11 1L8.5 8.5l.94-2.06 2.06-.94-2.06-.94L8.5 2.5l-.94 2.06-2.06.94zm10 10l.94 2.06.94-2.06 2.06-.94-2.06-.94-.94-2.06-.94 2.06-2.06.94z\"/><path d=\"M17.41 7.96l-1.37-1.37c-.4-.4-.92-.59-1.43-.59-.52 0-1.04.2-1.43.59L10.3 9.45l-7.72 7.72c-.78.78-.78 2.05 0 2.83L4 21.41c.39.39.9.59 1.41.59.51 0 1.02-.2 1.41-.59l7.78-7.78 2.81-2.81c.8-.78.8-2.07 0-2.86zM5.41 20L4 18.59l7.72-7.72 1.47 1.35L5.41 20z\"/>\n",
              "  </svg>\n",
              "      </button>\n",
              "      \n",
              "  <style>\n",
              "    .colab-df-container {\n",
              "      display:flex;\n",
              "      flex-wrap:wrap;\n",
              "      gap: 12px;\n",
              "    }\n",
              "\n",
              "    .colab-df-convert {\n",
              "      background-color: #E8F0FE;\n",
              "      border: none;\n",
              "      border-radius: 50%;\n",
              "      cursor: pointer;\n",
              "      display: none;\n",
              "      fill: #1967D2;\n",
              "      height: 32px;\n",
              "      padding: 0 0 0 0;\n",
              "      width: 32px;\n",
              "    }\n",
              "\n",
              "    .colab-df-convert:hover {\n",
              "      background-color: #E2EBFA;\n",
              "      box-shadow: 0px 1px 2px rgba(60, 64, 67, 0.3), 0px 1px 3px 1px rgba(60, 64, 67, 0.15);\n",
              "      fill: #174EA6;\n",
              "    }\n",
              "\n",
              "    [theme=dark] .colab-df-convert {\n",
              "      background-color: #3B4455;\n",
              "      fill: #D2E3FC;\n",
              "    }\n",
              "\n",
              "    [theme=dark] .colab-df-convert:hover {\n",
              "      background-color: #434B5C;\n",
              "      box-shadow: 0px 1px 3px 1px rgba(0, 0, 0, 0.15);\n",
              "      filter: drop-shadow(0px 1px 2px rgba(0, 0, 0, 0.3));\n",
              "      fill: #FFFFFF;\n",
              "    }\n",
              "  </style>\n",
              "\n",
              "      <script>\n",
              "        const buttonEl =\n",
              "          document.querySelector('#df-509f165b-a61d-44d2-a281-888b4e320b14 button.colab-df-convert');\n",
              "        buttonEl.style.display =\n",
              "          google.colab.kernel.accessAllowed ? 'block' : 'none';\n",
              "\n",
              "        async function convertToInteractive(key) {\n",
              "          const element = document.querySelector('#df-509f165b-a61d-44d2-a281-888b4e320b14');\n",
              "          const dataTable =\n",
              "            await google.colab.kernel.invokeFunction('convertToInteractive',\n",
              "                                                     [key], {});\n",
              "          if (!dataTable) return;\n",
              "\n",
              "          const docLinkHtml = 'Like what you see? Visit the ' +\n",
              "            '<a target=\"_blank\" href=https://colab.research.google.com/notebooks/data_table.ipynb>data table notebook</a>'\n",
              "            + ' to learn more about interactive tables.';\n",
              "          element.innerHTML = '';\n",
              "          dataTable['output_type'] = 'display_data';\n",
              "          await google.colab.output.renderOutput(dataTable, element);\n",
              "          const docLink = document.createElement('div');\n",
              "          docLink.innerHTML = docLinkHtml;\n",
              "          element.appendChild(docLink);\n",
              "        }\n",
              "      </script>\n",
              "    </div>\n",
              "  </div>\n",
              "  "
            ],
            "text/plain": [
              "                                              Mantra Sentiment\n",
              "0  Hayatın bana verdiği tüm hediyeler için minnet...       joy\n",
              "1                            İyi bir hayat yaşıyorum       joy\n",
              "2     Sevgi yayıyorum ve karşılığında kabul ediyorum       joy\n",
              "3                  Şu anda burada iyiyim ve mutluyum       joy\n",
              "4                              Ben mutluluğa layıkım       joy"
            ]
          },
          "execution_count": 48,
          "metadata": {},
          "output_type": "execute_result"
        }
      ],
      "source": [
        "mantra_excel.head()"
      ]
    },
    {
      "cell_type": "code",
      "execution_count": 56,
      "metadata": {
        "colab": {
          "base_uri": "https://localhost:8080/"
        },
        "id": "I5D2H6-7gOb3",
        "outputId": "bbd9f480-c131-45e9-c3a1-20b3ada67805"
      },
      "outputs": [
        {
          "name": "stdout",
          "output_type": "stream",
          "text": [
            " Olumsuzluğu bırakıyorum ve kendimi olumluya açıyorum\n"
          ]
        }
      ],
      "source": [
        "#random modülü içe aktarılır.\n",
        "import random\n",
        "# çıkan duygu kategorisine karşılık gelen cümleler uygun_mantralar değişkenine atanır.\n",
        "uygun_mantralar = mantra_excel[mantra_excel['Sentiment'] == highest_rate_emotion]\n",
        "# Rastgele bir cümle seçilir.\n",
        "Mantraa = random.choice(list(uygun_mantralar['Mantra']))\n",
        "# Sonuç yazdırılır.\n",
        "print(Mantraa)\n",
        "\n"
      ]
    },
    {
      "cell_type": "code",
      "execution_count": 50,
      "metadata": {
        "id": "C0Qk-zNnNFS-"
      },
      "outputs": [],
      "source": [
        "#Spotify Listesi okunur.\n",
        "spotify_excel = pd.read_excel(\"/content/drive/MyDrive/MantraAI/Spotify.xlsx\")\n"
      ]
    },
    {
      "cell_type": "code",
      "execution_count": 51,
      "metadata": {
        "colab": {
          "base_uri": "https://localhost:8080/",
          "height": 206
        },
        "id": "I3vwQF8rNLFe",
        "outputId": "61c8afef-ac90-47ca-804f-c54df63e5492"
      },
      "outputs": [
        {
          "data": {
            "text/html": [
              "\n",
              "  <div id=\"df-9faa32fa-5020-4276-81c6-04b89a497e30\">\n",
              "    <div class=\"colab-df-container\">\n",
              "      <div>\n",
              "<style scoped>\n",
              "    .dataframe tbody tr th:only-of-type {\n",
              "        vertical-align: middle;\n",
              "    }\n",
              "\n",
              "    .dataframe tbody tr th {\n",
              "        vertical-align: top;\n",
              "    }\n",
              "\n",
              "    .dataframe thead th {\n",
              "        text-align: right;\n",
              "    }\n",
              "</style>\n",
              "<table border=\"1\" class=\"dataframe\">\n",
              "  <thead>\n",
              "    <tr style=\"text-align: right;\">\n",
              "      <th></th>\n",
              "      <th>Adres</th>\n",
              "      <th>Sentiment</th>\n",
              "    </tr>\n",
              "  </thead>\n",
              "  <tbody>\n",
              "    <tr>\n",
              "      <th>0</th>\n",
              "      <td>https://open.spotify.com/playlist/5yT2P37N1cPA...</td>\n",
              "      <td>joy</td>\n",
              "    </tr>\n",
              "    <tr>\n",
              "      <th>1</th>\n",
              "      <td>https://open.spotify.com/playlist/5aEMlkev40GW...</td>\n",
              "      <td>sadness</td>\n",
              "    </tr>\n",
              "    <tr>\n",
              "      <th>2</th>\n",
              "      <td>https://open.spotify.com/playlist/7KXmrRphYhOw...</td>\n",
              "      <td>anger</td>\n",
              "    </tr>\n",
              "    <tr>\n",
              "      <th>3</th>\n",
              "      <td>https://open.spotify.com/playlist/3VSlxQziGus3...</td>\n",
              "      <td>fear</td>\n",
              "    </tr>\n",
              "    <tr>\n",
              "      <th>4</th>\n",
              "      <td>https://open.spotify.com/playlist/6mpFOvfwvYVI...</td>\n",
              "      <td>love</td>\n",
              "    </tr>\n",
              "  </tbody>\n",
              "</table>\n",
              "</div>\n",
              "      <button class=\"colab-df-convert\" onclick=\"convertToInteractive('df-9faa32fa-5020-4276-81c6-04b89a497e30')\"\n",
              "              title=\"Convert this dataframe to an interactive table.\"\n",
              "              style=\"display:none;\">\n",
              "        \n",
              "  <svg xmlns=\"http://www.w3.org/2000/svg\" height=\"24px\"viewBox=\"0 0 24 24\"\n",
              "       width=\"24px\">\n",
              "    <path d=\"M0 0h24v24H0V0z\" fill=\"none\"/>\n",
              "    <path d=\"M18.56 5.44l.94 2.06.94-2.06 2.06-.94-2.06-.94-.94-2.06-.94 2.06-2.06.94zm-11 1L8.5 8.5l.94-2.06 2.06-.94-2.06-.94L8.5 2.5l-.94 2.06-2.06.94zm10 10l.94 2.06.94-2.06 2.06-.94-2.06-.94-.94-2.06-.94 2.06-2.06.94z\"/><path d=\"M17.41 7.96l-1.37-1.37c-.4-.4-.92-.59-1.43-.59-.52 0-1.04.2-1.43.59L10.3 9.45l-7.72 7.72c-.78.78-.78 2.05 0 2.83L4 21.41c.39.39.9.59 1.41.59.51 0 1.02-.2 1.41-.59l7.78-7.78 2.81-2.81c.8-.78.8-2.07 0-2.86zM5.41 20L4 18.59l7.72-7.72 1.47 1.35L5.41 20z\"/>\n",
              "  </svg>\n",
              "      </button>\n",
              "      \n",
              "  <style>\n",
              "    .colab-df-container {\n",
              "      display:flex;\n",
              "      flex-wrap:wrap;\n",
              "      gap: 12px;\n",
              "    }\n",
              "\n",
              "    .colab-df-convert {\n",
              "      background-color: #E8F0FE;\n",
              "      border: none;\n",
              "      border-radius: 50%;\n",
              "      cursor: pointer;\n",
              "      display: none;\n",
              "      fill: #1967D2;\n",
              "      height: 32px;\n",
              "      padding: 0 0 0 0;\n",
              "      width: 32px;\n",
              "    }\n",
              "\n",
              "    .colab-df-convert:hover {\n",
              "      background-color: #E2EBFA;\n",
              "      box-shadow: 0px 1px 2px rgba(60, 64, 67, 0.3), 0px 1px 3px 1px rgba(60, 64, 67, 0.15);\n",
              "      fill: #174EA6;\n",
              "    }\n",
              "\n",
              "    [theme=dark] .colab-df-convert {\n",
              "      background-color: #3B4455;\n",
              "      fill: #D2E3FC;\n",
              "    }\n",
              "\n",
              "    [theme=dark] .colab-df-convert:hover {\n",
              "      background-color: #434B5C;\n",
              "      box-shadow: 0px 1px 3px 1px rgba(0, 0, 0, 0.15);\n",
              "      filter: drop-shadow(0px 1px 2px rgba(0, 0, 0, 0.3));\n",
              "      fill: #FFFFFF;\n",
              "    }\n",
              "  </style>\n",
              "\n",
              "      <script>\n",
              "        const buttonEl =\n",
              "          document.querySelector('#df-9faa32fa-5020-4276-81c6-04b89a497e30 button.colab-df-convert');\n",
              "        buttonEl.style.display =\n",
              "          google.colab.kernel.accessAllowed ? 'block' : 'none';\n",
              "\n",
              "        async function convertToInteractive(key) {\n",
              "          const element = document.querySelector('#df-9faa32fa-5020-4276-81c6-04b89a497e30');\n",
              "          const dataTable =\n",
              "            await google.colab.kernel.invokeFunction('convertToInteractive',\n",
              "                                                     [key], {});\n",
              "          if (!dataTable) return;\n",
              "\n",
              "          const docLinkHtml = 'Like what you see? Visit the ' +\n",
              "            '<a target=\"_blank\" href=https://colab.research.google.com/notebooks/data_table.ipynb>data table notebook</a>'\n",
              "            + ' to learn more about interactive tables.';\n",
              "          element.innerHTML = '';\n",
              "          dataTable['output_type'] = 'display_data';\n",
              "          await google.colab.output.renderOutput(dataTable, element);\n",
              "          const docLink = document.createElement('div');\n",
              "          docLink.innerHTML = docLinkHtml;\n",
              "          element.appendChild(docLink);\n",
              "        }\n",
              "      </script>\n",
              "    </div>\n",
              "  </div>\n",
              "  "
            ],
            "text/plain": [
              "                                               Adres Sentiment\n",
              "0  https://open.spotify.com/playlist/5yT2P37N1cPA...       joy\n",
              "1  https://open.spotify.com/playlist/5aEMlkev40GW...   sadness\n",
              "2  https://open.spotify.com/playlist/7KXmrRphYhOw...     anger\n",
              "3  https://open.spotify.com/playlist/3VSlxQziGus3...      fear\n",
              "4  https://open.spotify.com/playlist/6mpFOvfwvYVI...      love"
            ]
          },
          "execution_count": 51,
          "metadata": {},
          "output_type": "execute_result"
        }
      ],
      "source": [
        "spotify_excel.head()"
      ]
    },
    {
      "cell_type": "code",
      "execution_count": 52,
      "metadata": {
        "colab": {
          "base_uri": "https://localhost:8080/"
        },
        "id": "8hyMgO4MdzlM",
        "outputId": "78147368-d053-434a-9959-3ecbfd89d097"
      },
      "outputs": [
        {
          "name": "stdout",
          "output_type": "stream",
          "text": [
            "['https://open.spotify.com/playlist/5aEMlkev40GWlTJ69J00AZ?si=fe17a19325fb456f']\n"
          ]
        }
      ],
      "source": [
        "# Adres ve duygu sınıfı kolonları ayrılarak değişkenlere atanır.\n",
        "Adress_column = spotify_excel[\"Adres\"]  \n",
        "Sentiment_column = spotify_excel[\"Sentiment\"]  \n",
        "\n",
        "# Duygu adına karşılık gelen cümleyi yazdırma# Duygu adına karşılık gelen adres yazdırılır.\n",
        "Muzik_listesi = Adress_column[Sentiment_column == highest_rate_emotion].values\n",
        "print(Muzik_listesi)"
      ]
    }
  ],
  "metadata": {
    "accelerator": "GPU",
    "colab": {
      "gpuType": "T4",
      "provenance": []
    },
    "gpuClass": "standard",
    "kernelspec": {
      "display_name": "Python 3",
      "name": "python3"
    },
    "language_info": {
      "name": "python"
    }
  },
  "nbformat": 4,
  "nbformat_minor": 0
}
